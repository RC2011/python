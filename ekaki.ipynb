{
 "cells": [
  {
   "cell_type": "code",
   "execution_count": 23,
   "id": "fa85c38f",
   "metadata": {},
   "outputs": [],
   "source": [
    "import sys\n",
    "import pygame\n",
    "from pygame.locals import Rect\n",
    "from pygame.locals import *\n",
    "from mc_remote.minecraft import Minecraft\n",
    "import param_mc_remote as param\n",
    "from param_mc_remote import PLAYER_ORIGIN as PO\n",
    "from param_mc_remote import block"
   ]
  },
  {
   "cell_type": "code",
   "execution_count": 24,
   "id": "1d12a74a",
   "metadata": {},
   "outputs": [
    {
     "data": {
      "text/plain": [
       "(5, 0)"
      ]
     },
     "execution_count": 24,
     "metadata": {},
     "output_type": "execute_result"
    }
   ],
   "source": [
    "pygame.init()"
   ]
  },
  {
   "cell_type": "code",
   "execution_count": 25,
   "id": "44dab2d3",
   "metadata": {},
   "outputs": [],
   "source": [
    "x, y, z = -26, param.Y_SEA + 1, 45"
   ]
  },
  {
   "cell_type": "code",
   "execution_count": 26,
   "id": "dccfe756",
   "metadata": {},
   "outputs": [
    {
     "name": "stdout",
     "output_type": "stream",
     "text": [
      "Player Bananadaizin set to location: 2000, 0, 2000 in world \"world\"\n"
     ]
    },
    {
     "data": {
      "text/plain": [
       "'Player Bananadaizin set to location: 2000, 0, 2000 in world \"world\"'"
      ]
     },
     "execution_count": 26,
     "metadata": {},
     "output_type": "execute_result"
    }
   ],
   "source": [
    "mc = Minecraft.create(address=param.ADRS_MCR, port=param.PORT_MCR)\n",
    "mc.setPlayer(param.PLAYER_NAME, PO.x, PO.y, PO.z)"
   ]
  },
  {
   "cell_type": "code",
   "execution_count": 27,
   "id": "9d399089",
   "metadata": {},
   "outputs": [],
   "source": [
    "GRAY = (80, 80, 80)\n",
    "RED = (255, 0, 0)\n",
    "GREEN = (0, 255, 0)\n",
    "YELLOW = (250, 250, 0)\n",
    "WHITE = (250, 250, 250)\n",
    "BLUE = (0, 0, 255)\n",
    "BLACK = (0, 0, 0)\n",
    "NASHI = (160, 160, 160)\n",
    "PURPLE = (255, 0, 255)\n",
    "LIME = (170, 240, 30)\n",
    "ORANGE = (250, 180, 0)"
   ]
  },
  {
   "cell_type": "code",
   "execution_count": 28,
   "id": "9bd3f3a8",
   "metadata": {},
   "outputs": [],
   "source": [
    "screen = pygame.display.set_mode([600, 600])\n",
    "pygame.display.set_caption(\"ekaki\")\n",
    "mouse_x, mouse_y = pygame.mouse.get_pos()\n",
    "iro = 1\n",
    "yoko = 0\n",
    "yoko2 = 0\n",
    "tate = 0\n",
    "tate2 = 0\n",
    "kaisu = 0"
   ]
  },
  {
   "cell_type": "code",
   "execution_count": 29,
   "id": "ef0bed0e",
   "metadata": {},
   "outputs": [
    {
     "data": {
      "text/plain": [
       "Rect(0, 0, 600, 600)"
      ]
     },
     "execution_count": 29,
     "metadata": {},
     "output_type": "execute_result"
    }
   ],
   "source": [
    "screen.fill((160, 160, 250))"
   ]
  },
  {
   "cell_type": "code",
   "execution_count": 30,
   "id": "e38c0c00",
   "metadata": {},
   "outputs": [],
   "source": [
    "for block in range(24):\n",
    "    for block in range(24):\n",
    "        pygame.draw.rect(screen, (NASHI), Rect(10 + yoko, 10 + tate, 20, 20))\n",
    "        yoko += 20\n",
    "    yoko = 0\n",
    "    tate += 20\n",
    "tate = 0\n",
    "yoko = 0"
   ]
  },
  {
   "cell_type": "code",
   "execution_count": 31,
   "id": "0e1ad4bd",
   "metadata": {},
   "outputs": [],
   "source": [
    "for _i in range(31):\n",
    "    for _i in range(31):\n",
    "        mc.setBlock(x, y, z, param.block.LIGHT_BLUE_CONCRETE)\n",
    "        y += 1\n",
    "    y -= 31\n",
    "    x += 1\n",
    "x, y, z = -26, param.Y_SEA + 1, 44\n",
    "for _i in range(8):\n",
    "    for _i in range(8):\n",
    "        mc.setBlock(x, y, z, param.block.TORCH)\n",
    "        y += 4\n",
    "    y -= 32\n",
    "    x += 4\n",
    "x, y, z = 3, param.Y_SEA + 30, 45\n",
    "for _i in range(24):\n",
    "    for _i in range(24):\n",
    "        mc.setBlock(x, y, z, param.block.LIGHT_GRAY_CONCRETE)\n",
    "        x -= 1\n",
    "    y -= 1\n",
    "    x += 24\n",
    "x, y, z = 0, param.Y_SEA + 2, 45\n",
    "for _i in range(4):\n",
    "    for _i in range(4):\n",
    "        mc.setBlock(x, y, z, param.block.LIGHT_GRAY_CONCRETE)\n",
    "        y += 1\n",
    "    y -= 4\n",
    "    x += 1\n",
    "x, y, z = -5, param.Y_SEA + 2, 45\n",
    "for _i in range(4):\n",
    "    for _i in range(4):\n",
    "        mc.setBlock(x, y, z, param.block.BLACK_CONCRETE)\n",
    "        y += 1\n",
    "    y -= 4\n",
    "    x += 1\n",
    "x, y, z = -10, param.Y_SEA + 2, 45\n",
    "for _i in range(4):\n",
    "    for _i in range(4):\n",
    "        mc.setBlock(x, y, z, param.block.RED_CONCRETE)\n",
    "        y += 1\n",
    "    y -= 4\n",
    "    x += 1\n",
    "x, y, z = -15, param.Y_SEA + 2, 45\n",
    "for _i in range(4):\n",
    "    for _i in range(4):\n",
    "        mc.setBlock(x, y, z, param.block.YELLOW_CONCRETE)\n",
    "        y += 1\n",
    "    y -= 4\n",
    "    x += 1\n",
    "x, y, z = -20, param.Y_SEA + 2, 45\n",
    "for _i in range(4):\n",
    "    for _i in range(4):\n",
    "        mc.setBlock(x, y, z, param.block.BLUE_CONCRETE)\n",
    "        y += 1\n",
    "    y -= 4\n",
    "    x += 1\n",
    "x, y, z = -25, param.Y_SEA + 2, 45\n",
    "for _i in range(4):\n",
    "    for _i in range(4):\n",
    "        mc.setBlock(x, y, z, param.block.GREEN_CONCRETE)\n",
    "        y += 1\n",
    "    y -= 4\n",
    "    x += 1\n",
    "x, y, z = -25, param.Y_SEA + 7, 45\n",
    "for _i in range(4):\n",
    "    for _i in range(4):\n",
    "        mc.setBlock(x, y, z, param.block.GRAY_CONCRETE)\n",
    "        y += 1\n",
    "    y -= 4\n",
    "    x += 1\n",
    "x, y, z = -25, param.Y_SEA + 12, 45\n",
    "for _i in range(4):\n",
    "    for _i in range(4):\n",
    "        mc.setBlock(x, y, z, param.block.WHITE_CONCRETE)\n",
    "        y += 1\n",
    "    y -= 4\n",
    "    x += 1\n",
    "x, y, z = -25, param.Y_SEA + 17, 45\n",
    "for _i in range(4):\n",
    "    for _i in range(4):\n",
    "        mc.setBlock(x, y, z, param.block.PURPLE_CONCRETE)\n",
    "        y += 1\n",
    "    y -= 4\n",
    "    x += 1\n",
    "x, y, z = -25, param.Y_SEA + 22, 45\n",
    "for _i in range(4):\n",
    "    for _i in range(4):\n",
    "        mc.setBlock(x, y, z, param.block.LIME_CONCRETE)\n",
    "        y += 1\n",
    "    y -= 4\n",
    "    x += 1\n",
    "x, y, z = -25, param.Y_SEA + 27, 45\n",
    "for _i in range(4):\n",
    "    for _i in range(4):\n",
    "        mc.setBlock(x, y, z, param.block.ORANGE_CONCRETE)\n",
    "        y += 1\n",
    "    y -= 4\n",
    "    x += 1\n",
    "x, y, z = -20, param.Y_SEA + 7, 45"
   ]
  },
  {
   "cell_type": "code",
   "execution_count": 32,
   "id": "34680bc7",
   "metadata": {},
   "outputs": [
    {
     "data": {
      "text/plain": [
       "Rect(505, 0, 90, 90)"
      ]
     },
     "execution_count": 32,
     "metadata": {},
     "output_type": "execute_result"
    }
   ],
   "source": [
    "pygame.draw.rect(screen, (NASHI), Rect(5, 500, 90, 90))\n",
    "pygame.draw.rect(screen, (BLACK), Rect(105, 500, 90, 90))\n",
    "pygame.draw.rect(screen, (RED), Rect(205, 500, 90, 90))\n",
    "pygame.draw.rect(screen, (YELLOW), Rect(305, 500, 90, 90))\n",
    "pygame.draw.rect(screen, (BLUE), Rect(405, 500, 90, 90))\n",
    "pygame.draw.rect(screen, (GREEN), Rect(505, 500, 90, 90))\n",
    "pygame.draw.rect(screen, (GRAY), Rect(505, 400, 90, 90))\n",
    "pygame.draw.rect(screen, (WHITE), Rect(505, 300, 90, 90))\n",
    "pygame.draw.rect(screen, (PURPLE), Rect(505, 200, 90, 90))\n",
    "pygame.draw.rect(screen, (LIME), Rect(505, 100, 90, 90))\n",
    "pygame.draw.rect(screen, (ORANGE), Rect(505, 0, 90, 90))"
   ]
  },
  {
   "cell_type": "code",
   "execution_count": 33,
   "id": "99d6b35c",
   "metadata": {},
   "outputs": [],
   "source": [
    "running = True\n",
    "while running:\n",
    "    for event in pygame.event.get():\n",
    "        if event.type == pygame.QUIT:\n",
    "            running = False\n",
    "        if not running:\n",
    "            break\n",
    "\n",
    "    for block in range(24):\n",
    "         for block in range(24):\n",
    "            if mouse_x > 10 + yoko and mouse_x < 30 + yoko and mouse_y > 10 + tate and mouse_y < 30 + tate:\n",
    "                if event.type == MOUSEBUTTONDOWN:\n",
    "                    pygame.draw.rect(screen, (irob), Rect(10 + yoko, 10 + tate, 20, 20))\n",
    "                    if iro ==1:\n",
    "                        mc.setBlock(x, y, z, param.block.LIGHT_GRAY_CONCRETE)\n",
    "                    if iro ==2:\n",
    "                        mc.setBlock(x, y, z, param.block.BLACK_CONCRETE)\n",
    "                    if iro ==3:\n",
    "                        mc.setBlock(x, y, z, param.block.RED_CONCRETE)\n",
    "                    if iro ==4:\n",
    "                        mc.setBlock(x, y, z, param.block.YELLOW_CONCRETE)\n",
    "                    if iro ==5:\n",
    "                        mc.setBlock(x, y, z, param.block.BLUE_CONCRETE)\n",
    "                    if iro ==6:\n",
    "                        mc.setBlock(x, y, z, param.block.GREEN_CONCRETE)\n",
    "                    if iro ==7:\n",
    "                        mc.setBlock(x, y, z, param.block.GRAY_CONCRETE)\n",
    "                    if iro ==8:\n",
    "                        mc.setBlock(x, y, z, param.block.WHITE_CONCRETE)\n",
    "                    if iro ==9:\n",
    "                        mc.setBlock(x, y, z, param.block.PURPLE_CONCRETE)\n",
    "                    if iro ==10:\n",
    "                        mc.setBlock(x, y, z, param.block.LIME_CONCRETE)\n",
    "                    if iro ==11:\n",
    "                        mc.setBlock(x, y, z, param.block.ORANGE_CONCRETE)\n",
    "            yoko += 20\n",
    "            x -= 1\n",
    "         yoko = 0\n",
    "         x = 3\n",
    "         tate += 20\n",
    "         y -= 1\n",
    "    tate = 0\n",
    "    y = param.Y_SEA + 30\n",
    "    yoko = 0\n",
    "    x = 3\n",
    "    \n",
    "    if iro == 1:\n",
    "        irob = NASHI\n",
    "    else:\n",
    "        if iro == 2:\n",
    "            irob = BLACK\n",
    "        else:\n",
    "            if iro == 3:\n",
    "                irob = RED\n",
    "            else:\n",
    "                if iro == 4:\n",
    "                    irob = YELLOW\n",
    "                else:\n",
    "                    if iro == 5:\n",
    "                        irob = BLUE\n",
    "                    else:\n",
    "                        if iro == 6:\n",
    "                            irob = GREEN\n",
    "                        else:\n",
    "                            if iro == 7:\n",
    "                                irob = GRAY\n",
    "                            else:\n",
    "                                if iro == 8:\n",
    "                                    irob = WHITE\n",
    "                                else:\n",
    "                                    if iro == 9:\n",
    "                                        irob = PURPLE\n",
    "                                    else:\n",
    "                                        if iro == 10:\n",
    "                                            irob = LIME\n",
    "                                        else:\n",
    "                                            if iro == 11:\n",
    "                                                irob = ORANGE\n",
    "\n",
    "    for block in range(6):\n",
    "        if mouse_x > 5 + yoko2 and mouse_x < 95 + yoko2 and mouse_y > 500 and mouse_y < 590:\n",
    "            if event.type == MOUSEBUTTONDOWN:\n",
    "                iro = 1 + kaisu\n",
    "        yoko2 += 100\n",
    "        kaisu += 1\n",
    "    yoko2 = 0\n",
    "    kaisu = 0\n",
    "\n",
    "    for block in range(5):\n",
    "        if mouse_x > 505 and mouse_x < 595 and mouse_y > 400 - tate2 and mouse_y < 490 - tate2:\n",
    "            if event.type == MOUSEBUTTONDOWN:\n",
    "                iro = 7 + kaisu\n",
    "        tate2 += 100\n",
    "        kaisu += 1\n",
    "    tate2 = 0\n",
    "    kaisu = 0\n",
    "\n",
    "    mouse_x, mouse_y = pygame.mouse.get_pos()\n",
    "   \n",
    "    pygame.display.flip()\n",
    "pygame.quit()"
   ]
  }
 ],
 "metadata": {
  "kernelspec": {
   "display_name": "mc-remote-samples-py3.11",
   "language": "python",
   "name": "python3"
  },
  "language_info": {
   "codemirror_mode": {
    "name": "ipython",
    "version": 3
   },
   "file_extension": ".py",
   "mimetype": "text/x-python",
   "name": "python",
   "nbconvert_exporter": "python",
   "pygments_lexer": "ipython3",
   "version": "3.11.9"
  }
 },
 "nbformat": 4,
 "nbformat_minor": 5
}
