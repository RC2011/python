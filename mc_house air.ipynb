{
 "cells": [
  {
   "cell_type": "code",
   "execution_count": 1,
   "metadata": {},
   "outputs": [],
   "source": [
    "from mc_remote.minecraft import Minecraft"
   ]
  },
  {
   "cell_type": "code",
   "execution_count": 2,
   "metadata": {},
   "outputs": [
    {
     "name": "stdout",
     "output_type": "stream",
     "text": [
      "param_mc_remote loaded for Bananadaizin at 2000, 0, 2000\n"
     ]
    }
   ],
   "source": [
    "import param_mc_remote as param"
   ]
  },
  {
   "cell_type": "code",
   "execution_count": 3,
   "metadata": {},
   "outputs": [],
   "source": [
    "from param_mc_remote import PLAYER_ORIGIN as PO"
   ]
  },
  {
   "cell_type": "code",
   "execution_count": 4,
   "metadata": {},
   "outputs": [],
   "source": [
    "from param_mc_remote import block\n"
   ]
  },
  {
   "cell_type": "code",
   "execution_count": 5,
   "metadata": {},
   "outputs": [],
   "source": [
    "from time import sleep"
   ]
  },
  {
   "cell_type": "code",
   "execution_count": 6,
   "metadata": {},
   "outputs": [],
   "source": [
    "mc = Minecraft.create(address=param.ADRS_MCR, port=param.PORT_MCR)"
   ]
  },
  {
   "cell_type": "code",
   "execution_count": 7,
   "metadata": {},
   "outputs": [
    {
     "name": "stdout",
     "output_type": "stream",
     "text": [
      "Player Bananadaizin set to location: 2000, 0, 2000 in world \"world\"\n"
     ]
    },
    {
     "data": {
      "text/plain": [
       "'Player Bananadaizin set to location: 2000, 0, 2000 in world \"world\"'"
      ]
     },
     "execution_count": 7,
     "metadata": {},
     "output_type": "execute_result"
    }
   ],
   "source": [
    "mc.setPlayer(param.PLAYER_NAME, PO.x, PO.y, PO.z)"
   ]
  },
  {
   "cell_type": "code",
   "execution_count": 8,
   "metadata": {},
   "outputs": [],
   "source": [
    "kaisu = 0\n",
    "kaisu2 = 8\n",
    "kaisu2x = 0\n",
    "kaisu2z = 0\n",
    "yanex = 0\n",
    "yanez = 0"
   ]
  },
  {
   "cell_type": "code",
   "execution_count": 9,
   "metadata": {},
   "outputs": [],
   "source": [
    "x, z = 21, 20"
   ]
  },
  {
   "cell_type": "code",
   "execution_count": 10,
   "metadata": {},
   "outputs": [],
   "source": [
    "yanex, yanez = x, z"
   ]
  },
  {
   "cell_type": "code",
   "execution_count": 11,
   "metadata": {},
   "outputs": [],
   "source": [
    "y = param.Y_SEA + 1 + 1"
   ]
  },
  {
   "cell_type": "code",
   "execution_count": 12,
   "metadata": {},
   "outputs": [],
   "source": [
    "for _i in range(6):\n",
    "    for _i in range(6):\n",
    "        mc.setBlock(x, y, z, block.AIR)\n",
    "        sleep(0.1)\n",
    "        x += 1\n",
    "    x -= 6\n",
    "    z += 1\n",
    "y -= 1\n",
    "z -= 6"
   ]
  },
  {
   "cell_type": "code",
   "execution_count": 13,
   "metadata": {},
   "outputs": [],
   "source": [
    "for _i in range(6):\n",
    "    for _i in range(6):\n",
    "        for _i in range(5):\n",
    "            mc.setBlock(x, y, z, block.AIR)\n",
    "            sleep(0.1)\n",
    "            y += 1\n",
    "        y -= 5\n",
    "        x += 1\n",
    "    x -= 6\n",
    "    z += 1\n",
    "x -= 1\n",
    "y += 4\n",
    "z -= 7"
   ]
  },
  {
   "cell_type": "code",
   "execution_count": 14,
   "metadata": {},
   "outputs": [],
   "source": [
    "for _i in range(kaisu2):\n",
    "    for _i in range(kaisu2):\n",
    "        for _i in range(kaisu2):\n",
    "            mc.setBlock(x, y, z, block.AIR)\n",
    "            sleep(0.1)\n",
    "            x +=1\n",
    "        x -=kaisu2\n",
    "        z +=1\n",
    "    kaisu2 -=2\n",
    "    kaisu2x +=1\n",
    "    kaisu2z +=1\n",
    "    y +=1\n",
    "    x, z = yanex+kaisu2x-1, yanez+kaisu2z-1\n",
    "x -= 7\n",
    "y -= 12\n",
    "z -= 7"
   ]
  },
  {
   "cell_type": "code",
   "execution_count": 15,
   "metadata": {},
   "outputs": [],
   "source": [
    "for _i in range(4):\n",
    "    for _i in range(5):\n",
    "        mc.setBlock(x, y, z, block.AIR)\n",
    "        sleep(0.1)\n",
    "        y += 1\n",
    "    y -= 5\n",
    "    if kaisu == 0:\n",
    "        x += 5\n",
    "    if kaisu == 1:\n",
    "        z += 5\n",
    "    if kaisu == 2:\n",
    "        x -= 5\n",
    "    kaisu += 1\n",
    "x += 1\n",
    "y += 1\n",
    "z -= 4"
   ]
  },
  {
   "cell_type": "code",
   "execution_count": 16,
   "metadata": {},
   "outputs": [],
   "source": [
    "for _i in range(4):\n",
    "    for _i in range(4):\n",
    "        for _i in range(3):\n",
    "            mc.setBlock(x, y, z, block.AIR)\n",
    "            sleep(0)\n",
    "            y += 1\n",
    "        y -=3\n",
    "        x += 1\n",
    "    x -= 4\n",
    "    z += 1\n",
    "z -= 3\n",
    "x -= 1\n",
    "kaisu = 0"
   ]
  },
  {
   "cell_type": "code",
   "execution_count": 17,
   "metadata": {},
   "outputs": [],
   "source": [
    "for _i in range(2):\n",
    "    for _i in range(2):\n",
    "        mc.setBlock(x, y, z, block.AIR)\n",
    "        sleep(0)\n",
    "        y += 1\n",
    "    y -=2\n",
    "    z +=1\n",
    "x -= 1\n",
    "y -= 1\n",
    "z -= 2"
   ]
  },
  {
   "cell_type": "code",
   "execution_count": 18,
   "metadata": {},
   "outputs": [],
   "source": [
    "for _i in range(2):\n",
    "    mc.setBlock(x, y, z, block.AIR)\n",
    "    sleep(0.1)\n",
    "    z += 1\n",
    "x += 3\n",
    "y += 2\n",
    "z += 1"
   ]
  },
  {
   "cell_type": "code",
   "execution_count": 19,
   "metadata": {},
   "outputs": [],
   "source": [
    "for _i in range(2):\n",
    "    mc.setBlock(x, y, z, block.AIR)\n",
    "    sleep(0.1)\n",
    "    x += 1\n",
    "x -= 2\n",
    "z -= 5"
   ]
  },
  {
   "cell_type": "code",
   "execution_count": 20,
   "metadata": {},
   "outputs": [],
   "source": [
    "mc.setBlock(x, y, z, block.AIR)\n",
    "x += 2\n",
    "y -= 1\n",
    "z += 1"
   ]
  },
  {
   "cell_type": "code",
   "execution_count": 21,
   "metadata": {},
   "outputs": [],
   "source": [
    "for _i in range(4):\n",
    "    for _i in range(1):\n",
    "        mc.setBlock(x, y, z, block.AIR)\n",
    "        sleep(0.1)\n",
    "    if kaisu == 0:\n",
    "        z += 3\n",
    "    if kaisu == 1:\n",
    "        x -= 3\n",
    "    kaisu += 1\n",
    "x += 1"
   ]
  },
  {
   "cell_type": "code",
   "execution_count": 22,
   "metadata": {},
   "outputs": [],
   "source": [
    "mc.setBlock(x, y, z, block.AIR)\n",
    "x += 1"
   ]
  },
  {
   "cell_type": "code",
   "execution_count": 23,
   "metadata": {},
   "outputs": [],
   "source": [
    "mc.setBlock(x, y, z, block.AIR)\n",
    "z -= 3"
   ]
  },
  {
   "cell_type": "code",
   "execution_count": 24,
   "metadata": {},
   "outputs": [],
   "source": [
    "mc.setBlock(x, y, z, block.AIR)\n",
    "x -= 1"
   ]
  },
  {
   "cell_type": "code",
   "execution_count": 25,
   "metadata": {},
   "outputs": [],
   "source": [
    "mc.setBlock(x, y, z, block.AIR)\n",
    "y += 3"
   ]
  },
  {
   "cell_type": "code",
   "execution_count": 26,
   "metadata": {},
   "outputs": [],
   "source": [
    "for _i in range(3):\n",
    "    mc.setBlock(x, y, z, block.AIR)\n",
    "    sleep(0)\n",
    "    y += 1\n",
    "x -= 1\n",
    "y += 1"
   ]
  },
  {
   "cell_type": "code",
   "execution_count": 27,
   "metadata": {},
   "outputs": [],
   "source": [
    "for _i in range(8):\n",
    "    mc.setBlock(x, y, z, block.AIR)\n",
    "    sleep(0.1)\n",
    "    y -= 1\n",
    "x += 1\n",
    "y += 3\n",
    "z += 1\n",
    "for _i in range(6):\n",
    "    mc.setBlock(x, y, z, block.AIR)\n",
    "    sleep(0.1)\n",
    "    y += 1\n",
    "x += 1\n",
    "y -= 1\n",
    "z -= 1\n",
    "for _i in range(7):\n",
    "    mc.setBlock(x, y, z, block.AIR)\n",
    "    sleep(0.1)\n",
    "    y -= 1\n",
    "x -= 1\n",
    "y += 3\n",
    "z -= 1\n",
    "for _i in range(5):\n",
    "    mc.setBlock(x, y, z, block.AIR)\n",
    "    sleep(0.1)\n",
    "    y += 1\n",
    "y -= 3\n",
    "z += 1\n",
    "mc.setBlock(x, y, z, block.AIR)\n",
    "y += 1\n",
    "mc.setBlock(x, y, z, block.AIR)\n",
    "x += 2\n",
    "y -= 6\n",
    "z += 2"
   ]
  },
  {
   "cell_type": "code",
   "execution_count": 28,
   "metadata": {},
   "outputs": [],
   "source": [
    "mc.setBlock(x, y, z, block.AIR)\n",
    "x -= 4\n",
    "z -= 1"
   ]
  },
  {
   "cell_type": "code",
   "execution_count": 29,
   "metadata": {},
   "outputs": [],
   "source": [
    "for _i in range(2):\n",
    "    mc.setBlock(x, y, z, block.AIR)\n",
    "    z += 1"
   ]
  }
 ],
 "metadata": {
  "kernelspec": {
   "display_name": "mc-remote-samples-py3.11",
   "language": "python",
   "name": "python3"
  },
  "language_info": {
   "codemirror_mode": {
    "name": "ipython",
    "version": 3
   },
   "file_extension": ".py",
   "mimetype": "text/x-python",
   "name": "python",
   "nbconvert_exporter": "python",
   "pygments_lexer": "ipython3",
   "version": "3.11.9"
  }
 },
 "nbformat": 4,
 "nbformat_minor": 2
}
