{
 "cells": [
  {
   "cell_type": "code",
   "execution_count": 1,
   "id": "5fb8b1e7",
   "metadata": {},
   "outputs": [
    {
     "name": "stdout",
     "output_type": "stream",
     "text": [
      "param_mc_remote loaded for Bananadaizin at 2000, 0, 2000\n"
     ]
    }
   ],
   "source": [
    "from mc_remote.minecraft import Minecraft\n",
    "import param_mc_remote as param\n",
    "from param_mc_remote import PLAYER_ORIGIN as PO\n",
    "from param_mc_remote import block\n",
    "from lcd_font_mc import LCD_font as LCD_font_mc\n",
    "from lcd_font_mc import LCD_font_styles\n",
    "from datetime import datetime\n",
    "from time import sleep"
   ]
  },
  {
   "cell_type": "code",
   "execution_count": 2,
   "id": "eacf6cf0",
   "metadata": {},
   "outputs": [
    {
     "name": "stdout",
     "output_type": "stream",
     "text": [
      "Player Bananadaizin set to location: 2000, 0, 2000 in world \"world\"\n",
      "Player Bananadaizin set to location: 2000, 0, 2000 in world \"world\"\n"
     ]
    }
   ],
   "source": [
    "mc = Minecraft.create(address=param.ADRS_MCR, port=param.PORT_MCR)\n",
    "result = mc.setPlayer(param.PLAYER_NAME, PO.x, PO.y, PO.z)\n",
    "if (\"Error\" in result):\n",
    "    sys.exit(result)\n",
    "else:\n",
    "    print(result)"
   ]
  },
  {
   "cell_type": "code",
   "execution_count": 3,
   "id": "b7646152",
   "metadata": {},
   "outputs": [],
   "source": [
    "display1 = LCD_font_mc(mc)\n",
    "display1.init_col(COLOR_ON=param.block.DIAMOND_BLOCK, COLOR_OFF=param.block.AIR)\n",
    "display1.init_row(X_ORG=-30, Y_ORG=param.Y_SEA + 20, Z_ORG=-40, COL_INTV=6)\n",
    "\n",
    "display2 = LCD_font_mc(mc)\n",
    "display2.init_col(COLOR_ON=param.block.GOLD_BLOCK, COLOR_OFF=param.block.AIR)\n",
    "display2.init_row(X_ORG=-30, Y_ORG=param.Y_SEA + 10, Z_ORG=-40, COL_INTV=6)"
   ]
  },
  {
   "cell_type": "code",
   "execution_count": null,
   "id": "2a4afe15",
   "metadata": {},
   "outputs": [],
   "source": [
    "\n",
    "dt_now = datetime.now()\n",
    "time_now = (dt_now.hour * 10000\n",
    "                    + dt_now.minute * 100\n",
    "                    + dt_now.second)\n",
    "display1.update_col(col=0, code=int(str(dt_now.year)[0]))\n",
    "display1.update_col(col=1, code=int(str(dt_now.year)[1]))\n",
    "display1.update_col(col=2, code=int(str(dt_now.year)[2]))\n",
    "display1.update_col(col=3, code=int(str(dt_now.year)[3]))\n",
    "display1.update_col(col=4, code=10)\n",
    "display1.update_col(col=5, code=dt_now.month // 10)\n",
    "display1.update_col(col=6, code=dt_now.month % 10)\n",
    "display1.update_col(col=7, code=10)\n",
    "display1.update_col(col=8, code=dt_now.day // 10)\n",
    "display1.update_col(col=9, code=dt_now.day % 10)\n",
    "\n",
    "display2.update_col(col=0, code=dt_now.hour // 10)\n",
    "display2.update_col(col=1, code=dt_now.hour % 10)\n",
    "display2.update_col(col=2, code=11)\n",
    "display2.update_col(col=3, code=dt_now.minute // 10)\n",
    "display2.update_col(col=4, code=dt_now.minute % 10)\n",
    "display2.update_col(col=5, code=11)\n",
    "display2.update_col(col=6, code=dt_now.second // 10)\n",
    "display2.update_col(col=7, code=dt_now.second % 10)"
   ]
  }
 ],
 "metadata": {
  "kernelspec": {
   "display_name": "mc-remote-samples-py3.11",
   "language": "python",
   "name": "python3"
  },
  "language_info": {
   "codemirror_mode": {
    "name": "ipython",
    "version": 3
   },
   "file_extension": ".py",
   "mimetype": "text/x-python",
   "name": "python",
   "nbconvert_exporter": "python",
   "pygments_lexer": "ipython3",
   "version": "3.11.9"
  }
 },
 "nbformat": 4,
 "nbformat_minor": 5
}
