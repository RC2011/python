{
 "cells": [
  {
   "cell_type": "code",
   "execution_count": 22,
   "id": "9b23f001",
   "metadata": {},
   "outputs": [],
   "source": [
    "from mc_remote.minecraft import Minecraft"
   ]
  },
  {
   "cell_type": "code",
   "execution_count": 23,
   "id": "b4609a38",
   "metadata": {},
   "outputs": [],
   "source": [
    "import param_mc_remote as param"
   ]
  },
  {
   "cell_type": "code",
   "execution_count": 24,
   "id": "9fdee2a5",
   "metadata": {},
   "outputs": [],
   "source": [
    "from param_mc_remote import PLAYER_ORIGIN as PO"
   ]
  },
  {
   "cell_type": "code",
   "execution_count": 25,
   "id": "bd416911",
   "metadata": {},
   "outputs": [],
   "source": [
    "from param_mc_remote import block"
   ]
  },
  {
   "cell_type": "code",
   "execution_count": 26,
   "id": "d5fda118",
   "metadata": {},
   "outputs": [],
   "source": [
    "mc = Minecraft.create(address=param.ADRS_MCR, port=param.PORT_MCR)"
   ]
  },
  {
   "cell_type": "code",
   "execution_count": 27,
   "id": "9535673a",
   "metadata": {},
   "outputs": [
    {
     "name": "stdout",
     "output_type": "stream",
     "text": [
      "Player Bananadaizin set to location: 2000, 0, 2000 in world \"world\"\n"
     ]
    },
    {
     "data": {
      "text/plain": [
       "'Player Bananadaizin set to location: 2000, 0, 2000 in world \"world\"'"
      ]
     },
     "execution_count": 27,
     "metadata": {},
     "output_type": "execute_result"
    }
   ],
   "source": [
    "mc.setPlayer(param.PLAYER_NAME, PO.x, PO.y, PO.z)"
   ]
  },
  {
   "cell_type": "code",
   "execution_count": 28,
   "id": "e65ffbed",
   "metadata": {},
   "outputs": [],
   "source": [
    "x, y, z = 16, 63, -30"
   ]
  },
  {
   "cell_type": "code",
   "execution_count": 29,
   "id": "ea24367e",
   "metadata": {},
   "outputs": [],
   "source": [
    "for _i in range(6):\n",
    "    for _i in range(10):\n",
    "        for _i in range(5):\n",
    "            mc.setBlock(x, y, z, block.AIR)\n",
    "            y += 1\n",
    "        y -= 5\n",
    "        z += 1\n",
    "    z -= 10\n",
    "    x -= 1"
   ]
  }
 ],
 "metadata": {
  "kernelspec": {
   "display_name": "mc-remote-samples-py3.11",
   "language": "python",
   "name": "python3"
  },
  "language_info": {
   "codemirror_mode": {
    "name": "ipython",
    "version": 3
   },
   "file_extension": ".py",
   "mimetype": "text/x-python",
   "name": "python",
   "nbconvert_exporter": "python",
   "pygments_lexer": "ipython3",
   "version": "3.11.9"
  }
 },
 "nbformat": 4,
 "nbformat_minor": 5
}
