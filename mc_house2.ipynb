{
 "cells": [
  {
   "cell_type": "code",
   "execution_count": 271,
   "metadata": {},
   "outputs": [],
   "source": [
    "from mc_remote.minecraft import Minecraft"
   ]
  },
  {
   "cell_type": "code",
   "execution_count": 272,
   "metadata": {},
   "outputs": [],
   "source": [
    "import param_mc_remote as param"
   ]
  },
  {
   "cell_type": "code",
   "execution_count": 273,
   "metadata": {},
   "outputs": [],
   "source": [
    "from param_mc_remote import PLAYER_ORIGIN as PO"
   ]
  },
  {
   "cell_type": "code",
   "execution_count": 274,
   "metadata": {},
   "outputs": [],
   "source": [
    "from param_mc_remote import block\n"
   ]
  },
  {
   "cell_type": "code",
   "execution_count": 275,
   "metadata": {},
   "outputs": [],
   "source": [
    "from time import sleep"
   ]
  },
  {
   "cell_type": "code",
   "execution_count": 276,
   "metadata": {},
   "outputs": [],
   "source": [
    "mc = Minecraft.create(address=param.ADRS_MCR, port=param.PORT_MCR)"
   ]
  },
  {
   "cell_type": "code",
   "execution_count": 277,
   "metadata": {},
   "outputs": [
    {
     "name": "stdout",
     "output_type": "stream",
     "text": [
      "Player Bananadaizin set to location: 2000, 0, 2000 in world \"world\"\n"
     ]
    },
    {
     "data": {
      "text/plain": [
       "'Player Bananadaizin set to location: 2000, 0, 2000 in world \"world\"'"
      ]
     },
     "execution_count": 277,
     "metadata": {},
     "output_type": "execute_result"
    }
   ],
   "source": [
    "mc.setPlayer(param.PLAYER_NAME, PO.x, PO.y, PO.z)"
   ]
  },
  {
   "cell_type": "code",
   "execution_count": 278,
   "metadata": {},
   "outputs": [],
   "source": [
    "kaisu = 0"
   ]
  },
  {
   "cell_type": "code",
   "execution_count": 279,
   "metadata": {},
   "outputs": [],
   "source": [
    "kaisu2 = 8\n",
    "kaisu2x = 0\n",
    "kaisu2z = 0"
   ]
  },
  {
   "cell_type": "code",
   "execution_count": 280,
   "metadata": {},
   "outputs": [],
   "source": [
    "x, z = 21, 20"
   ]
  },
  {
   "cell_type": "code",
   "execution_count": 281,
   "metadata": {},
   "outputs": [],
   "source": [
    "y = param.Y_SEA + 1\n"
   ]
  },
  {
   "cell_type": "code",
   "execution_count": 282,
   "metadata": {},
   "outputs": [
    {
     "name": "stderr",
     "output_type": "stream",
     "text": [
      "Connection to the server is lost\n"
     ]
    },
    {
     "ename": "SystemExit",
     "evalue": "1",
     "output_type": "error",
     "traceback": [
      "An exception has occurred, use %tb to see the full traceback.\n",
      "\u001b[1;31mSystemExit\u001b[0m\u001b[1;31m:\u001b[0m 1\n"
     ]
    },
    {
     "name": "stderr",
     "output_type": "stream",
     "text": [
      "c:\\Users\\rc\\.vscode\\python\\.venv\\Lib\\site-packages\\IPython\\core\\interactiveshell.py:3587: UserWarning: To exit: use 'exit', 'quit', or Ctrl-D.\n",
      "  warn(\"To exit: use 'exit', 'quit', or Ctrl-D.\", stacklevel=1)\n"
     ]
    }
   ],
   "source": [
    "for _i in range(6):\n",
    "    for _i in range(6):\n",
    "        for _i in range(5):\n",
    "            mc.setBlock(x, y, z, block.OAK_PLANKS)\n",
    "            sleep(0.1)\n",
    "            y += 1\n",
    "        y -= 5\n",
    "        x += 1\n",
    "    x -= 6\n",
    "    z += 1"
   ]
  },
  {
   "cell_type": "code",
   "execution_count": null,
   "metadata": {},
   "outputs": [],
   "source": [
    "x, y, z = 20, param.Y_SEA + 5, 19"
   ]
  },
  {
   "cell_type": "code",
   "execution_count": null,
   "metadata": {},
   "outputs": [],
   "source": [
    "for _i in range(kaisu2):\n",
    "    for _i in range(kaisu2):\n",
    "        for _i in range(kaisu2):\n",
    "            mc.setBlock(x, y, z, block.OAK_PLANKS)\n",
    "            sleep(0.1)\n",
    "            x +=1\n",
    "        x -=kaisu2\n",
    "        z +=1\n",
    "    kaisu2 -=2\n",
    "    kaisu2x +=1\n",
    "    kaisu2z +=1\n",
    "    y +=1\n",
    "    x, z = 20+kaisu2x, 19+kaisu2z\n"
   ]
  },
  {
   "cell_type": "code",
   "execution_count": null,
   "metadata": {},
   "outputs": [],
   "source": [
    "takasa=0\n",
    "x, y, z = 21, param.Y_SEA + 1, 20\n",
    "def hashira (suuji):\n",
    "    takasa=0\n",
    "    for _i in range(suuji):\n",
    "        mc.setBlock(x, y+takasa, z, block.OAK_LOG)\n",
    "        mc.setBlock(x+suuji, y+takasa, z, block.OAK_LOG)\n",
    "        mc.setBlock(x, y+takasa, z+suuji, block.OAK_LOG)\n",
    "        mc.setBlock(x+suuji, y+takasa, z+suuji, block.OAK_LOG)\n",
    "        takasa+=1\n",
    "        sleep(0.1)\n",
    "\n",
    "    "
   ]
  },
  {
   "cell_type": "code",
   "execution_count": null,
   "metadata": {},
   "outputs": [],
   "source": [
    "hashira(5)"
   ]
  },
  {
   "cell_type": "code",
   "execution_count": null,
   "metadata": {},
   "outputs": [],
   "source": [
    "x, y, z = 22, param.Y_SEA + 2, 21"
   ]
  },
  {
   "cell_type": "code",
   "execution_count": null,
   "metadata": {},
   "outputs": [],
   "source": [
    "for _i in range(4):\n",
    "    for _i in range(4):\n",
    "        for _i in range(3):\n",
    "            mc.setBlock(x, y, z, block.AIR)\n",
    "            sleep(0.1)\n",
    "            y += 1\n",
    "        y -=3\n",
    "        x += 1\n",
    "    x -= 4\n",
    "    z += 1\n",
    "z -= 3\n",
    "x -= 1\n",
    "kaisu = 0"
   ]
  },
  {
   "cell_type": "code",
   "execution_count": null,
   "metadata": {},
   "outputs": [],
   "source": [
    "for _i in range(2):\n",
    "    for _i in range(2):\n",
    "        mc.setBlock(x, y, z, block.AIR)\n",
    "        sleep(0.1)\n",
    "        y += 1\n",
    "    y -=2\n",
    "    z +=1\n",
    "x -= 1\n",
    "y -= 1\n",
    "z -= 2"
   ]
  },
  {
   "cell_type": "code",
   "execution_count": null,
   "metadata": {},
   "outputs": [],
   "source": [
    "for _i in range(2):\n",
    "    mc.setBlock(x, y, z, block.OAK_SLAB)\n",
    "    sleep(0.1)\n",
    "    z += 1\n",
    "x += 3\n",
    "y += 2\n",
    "z += 1"
   ]
  },
  {
   "cell_type": "code",
   "execution_count": null,
   "metadata": {},
   "outputs": [],
   "source": [
    "for _i in range(2):\n",
    "    mc.setBlock(x, y, z, block.GLASS)\n",
    "    sleep(0.1)\n",
    "    x += 1\n",
    "x -= 2\n",
    "z -= 5"
   ]
  },
  {
   "cell_type": "code",
   "execution_count": null,
   "metadata": {},
   "outputs": [],
   "source": [
    "mc.setBlock(x, y, z, block.GLASS)\n",
    "x += 2\n",
    "y -= 1\n",
    "z += 1"
   ]
  },
  {
   "cell_type": "code",
   "execution_count": null,
   "metadata": {},
   "outputs": [],
   "source": [
    "for _i in range(4):\n",
    "    for _i in range(1):\n",
    "        mc.setBlock(x, y, z, block.TORCH)\n",
    "        sleep(0.1)\n",
    "    if kaisu == 0:\n",
    "        z += 3\n",
    "    if kaisu == 1:\n",
    "        x -= 3\n",
    "    kaisu += 1\n",
    "x += 1"
   ]
  },
  {
   "cell_type": "code",
   "execution_count": null,
   "metadata": {},
   "outputs": [],
   "source": [
    "mc.setBlock(x, y, z, block.CHEST)\n",
    "x += 1"
   ]
  },
  {
   "cell_type": "code",
   "execution_count": null,
   "metadata": {},
   "outputs": [],
   "source": [
    "mc.setBlock(x, y, z, block.FURNACE)\n",
    "z -= 3"
   ]
  },
  {
   "cell_type": "code",
   "execution_count": null,
   "metadata": {},
   "outputs": [],
   "source": [
    "mc.setBlock(x, y, z, block.CRAFTING_TABLE)\n",
    "x -= 1"
   ]
  },
  {
   "cell_type": "code",
   "execution_count": null,
   "metadata": {},
   "outputs": [],
   "source": [
    "mc.setBlock(x, y, z, block.CAMPFIRE)\n",
    "y += 3"
   ]
  },
  {
   "cell_type": "code",
   "execution_count": null,
   "metadata": {},
   "outputs": [],
   "source": [
    "for _i in range(3):\n",
    "    mc.setBlock(x, y, z, block.AIR)\n",
    "    sleep(0.1)\n",
    "    y += 1\n",
    "x -= 1\n",
    "y += 1"
   ]
  },
  {
   "cell_type": "code",
   "execution_count": null,
   "metadata": {},
   "outputs": [],
   "source": [
    "for _i in range(8):\n",
    "    mc.setBlock(x, y, z, block.BRICKS)\n",
    "    sleep(0.1)\n",
    "    y -= 1\n",
    "x += 1\n",
    "y += 3\n",
    "z += 1\n",
    "for _i in range(6):\n",
    "    mc.setBlock(x, y, z, block.BRICKS)\n",
    "    sleep(0.1)\n",
    "    y += 1\n",
    "x += 1\n",
    "y -= 1\n",
    "z -= 1\n",
    "for _i in range(7):\n",
    "    mc.setBlock(x, y, z, block.BRICKS)\n",
    "    sleep(0.1)\n",
    "    y -= 1\n",
    "x -= 1\n",
    "y += 3\n",
    "z -= 1\n",
    "for _i in range(5):\n",
    "    mc.setBlock(x, y, z, block.BRICKS)\n",
    "    sleep(0.1)\n",
    "    y += 1\n",
    "y -= 3\n",
    "z += 1\n",
    "mc.setBlock(x, y, z, block.BRICKS)\n",
    "y += 1\n",
    "mc.setBlock(x, y, z, block.CAMPFIRE)\n",
    "x += 2\n",
    "y -= 6\n",
    "z += 2"
   ]
  },
  {
   "cell_type": "code",
   "execution_count": null,
   "metadata": {},
   "outputs": [],
   "source": [
    "mc.setBlock(x, y, z, block.WHITE_BED)\n",
    "x -= 4\n",
    "z -= 1"
   ]
  },
  {
   "cell_type": "code",
   "execution_count": null,
   "metadata": {},
   "outputs": [],
   "source": [
    "for _i in range(2):\n",
    "    mc.setBlock(x, y, z, block.IRON_DOOR)\n",
    "    z += 1"
   ]
  }
 ],
 "metadata": {
  "kernelspec": {
   "display_name": "mc-remote-samples-py3.11",
   "language": "python",
   "name": "python3"
  },
  "language_info": {
   "codemirror_mode": {
    "name": "ipython",
    "version": 3
   },
   "file_extension": ".py",
   "mimetype": "text/x-python",
   "name": "python",
   "nbconvert_exporter": "python",
   "pygments_lexer": "ipython3",
   "version": "3.11.9"
  }
 },
 "nbformat": 4,
 "nbformat_minor": 2
}
