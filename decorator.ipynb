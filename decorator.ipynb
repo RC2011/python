{
 "cells": [
  {
   "cell_type": "code",
   "execution_count": 1,
   "id": "e4725cfa",
   "metadata": {},
   "outputs": [],
   "source": [
    "def npath(x, y):\n",
    "    if x == 0 or y == 0:\n",
    "        return 1\n",
    "    else:\n",
    "        return npath(x-1, y) + npath(x, y-1)"
   ]
  },
  {
   "cell_type": "code",
   "execution_count": 16,
   "id": "b2ffaeae",
   "metadata": {},
   "outputs": [
    {
     "name": "stdout",
     "output_type": "stream",
     "text": [
      "245 µs ± 3.63 µs per loop (mean ± std. dev. of 7 runs, 10000 loops each)\n"
     ]
    }
   ],
   "source": [
    "%timeit npath(8, 4)"
   ]
  },
  {
   "cell_type": "code",
   "execution_count": 12,
   "id": "b9904a84",
   "metadata": {},
   "outputs": [],
   "source": [
    "def memo(func):\n",
    "    M = {}\n",
    "    def wrapper(x, y):\n",
    "        n = M.get((x, y))\n",
    "        if n is None:\n",
    "            v = func(x, y)\n",
    "            M[(x, y)] = v\n",
    "            return v\n",
    "        else:\n",
    "            return n\n",
    "    return wrapper\n",
    "\n",
    "npath_memo = memo(npath)"
   ]
  },
  {
   "cell_type": "code",
   "execution_count": 17,
   "id": "1b5342af",
   "metadata": {},
   "outputs": [
    {
     "name": "stdout",
     "output_type": "stream",
     "text": [
      "494 ns ± 93.7 ns per loop (mean ± std. dev. of 7 runs, 1000000 loops each)\n"
     ]
    }
   ],
   "source": [
    "%timeit npath_memo(8, 4)"
   ]
  },
  {
   "cell_type": "code",
   "execution_count": 18,
   "id": "fe3fb1d9",
   "metadata": {},
   "outputs": [],
   "source": [
    "@memo\n",
    "def npath(x, y):\n",
    "    if x == 0 or y == 0:\n",
    "        return 1\n",
    "    else:\n",
    "        return npath(x-1, y) + npath(x, y-1)"
   ]
  },
  {
   "cell_type": "code",
   "execution_count": 19,
   "id": "36c4f366",
   "metadata": {},
   "outputs": [
    {
     "name": "stdout",
     "output_type": "stream",
     "text": [
      "424 ns ± 24.3 ns per loop (mean ± std. dev. of 7 runs, 1000000 loops each)\n"
     ]
    }
   ],
   "source": [
    "%timeit npath(8, 4)"
   ]
  },
  {
   "cell_type": "markdown",
   "id": "afd03434-6b4a-4662-89ad-20d90893ceda",
   "metadata": {
    "tags": [
     "remove-cell"
    ]
   },
   "source": [
    "---\n",
    "\n",
    "[Python早見帳](https://chokkan.github.io/python/) © Copyright 2020-2024 by [岡崎 直観 (Naoaki Okazaki)](https://www.chokkan.org/). この作品は<a rel=\"license\" href=\"http://creativecommons.org/licenses/by-nc-nd/4.0/\">クリエイティブ・コモンズ 表示 - 非営利 - 改変禁止 4.0 国際 ライセンス</a>の下に提供されています。<a rel=\"license\" href=\"http://creativecommons.org/licenses/by-nc-nd/4.0/\"><img alt=\"クリエイティブ・コモンズ・ライセンス\" style=\"border-width:0\" src=\"https://i.creativecommons.org/l/by-nc-nd/4.0/80x15.png\" /></a>"
   ]
  }
 ],
 "metadata": {
  "@context": {
   "CreativeWork": "http://schema.org/CreativeWork",
   "Organization": "http://schema.org/Organization",
   "Person": "http://schema.org/Person",
   "author": "http://schema.org/author",
   "copyrightHolder": "http://schema.org/copyrightHolder",
   "copyrightYear": "http://schema.org/copyrightYear",
   "license": "http://schema.org/license",
   "name": "http://schema.org/name",
   "title": "http://schema.org/name",
   "url": "http://schema.org/url"
  },
  "@type": "CreativeWork",
  "author": [
   {
    "@type": "Person",
    "name": "Naoaki Okazaki",
    "url": "https://www.chokkan.org/"
   }
  ],
  "copyrightHolder": [
   {
    "@type": "Person",
    "name": "Naoaki Okazaki",
    "url": "https://www.chokkan.org/"
   }
  ],
  "copyrightYear": 2024,
  "kernelspec": {
   "display_name": "Python 3 (ipykernel)",
   "language": "python",
   "name": "python3"
  },
  "language_info": {
   "codemirror_mode": {
    "name": "ipython",
    "version": 3
   },
   "file_extension": ".py",
   "mimetype": "text/x-python",
   "name": "python",
   "nbconvert_exporter": "python",
   "pygments_lexer": "ipython3",
   "version": "3.8.10"
  },
  "license": "https://creativecommons.org/licenses/by-nc-nd/4.0/deed.ja",
  "title": "Python早見帳"
 },
 "nbformat": 4,
 "nbformat_minor": 5
}
