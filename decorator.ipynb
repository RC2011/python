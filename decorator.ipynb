{
 "cells": [
  {
   "cell_type": "code",
   "execution_count": 1,
   "id": "e4725cfa",
   "metadata": {},
   "outputs": [],
   "source": [
    "def npath(x, y):\n",
    "    if x == 0 or y == 0:\n",
    "        return 1\n",
    "    else:\n",
    "        return npath(x-1, y) + npath(x, y-1)"
   ]
  },
  {
   "cell_type": "code",
   "execution_count": 16,
   "id": "b2ffaeae",
   "metadata": {},
   "outputs": [
    {
     "name": "stdout",
     "output_type": "stream",
     "text": [
      "245 µs ± 3.63 µs per loop (mean ± std. dev. of 7 runs, 10000 loops each)\n"
     ]
    }
   ],
   "source": [
    "%timeit npath(8, 4)"
   ]
  },
  {
   "cell_type": "code",
   "execution_count": 12,
   "id": "b9904a84",
   "metadata": {},
   "outputs": [],
   "source": [
    "def memo(func):\n",
    "    M = {}\n",
    "    def wrapper(x, y):\n",
    "        n = M.get((x, y))\n",
    "        if n is None:\n",
    "            v = func(x, y)\n",
    "            M[(x, y)] = v\n",
    "            return v\n",
    "        else:\n",
    "            return n\n",
    "    return wrapper\n",
    "\n",
    "npath_memo = memo(npath)"
   ]
  },
  {
   "cell_type": "code",
   "execution_count": 17,
   "id": "1b5342af",
   "metadata": {},
   "outputs": [
    {
     "name": "stdout",
     "output_type": "stream",
     "text": [
      "494 ns ± 93.7 ns per loop (mean ± std. dev. of 7 runs, 1000000 loops each)\n"
     ]
    }
   ],
   "source": [
    "%timeit npath_memo(8, 4)"
   ]
  },
  {
   "cell_type": "code",
   "execution_count": 18,
   "id": "fe3fb1d9",
   "metadata": {},
   "outputs": [],
   "source": [
    "@memo\n",
    "def npath(x, y):\n",
    "    if x == 0 or y == 0:\n",
    "        return 1\n",
    "    else:\n",
    "        return npath(x-1, y) + npath(x, y-1)"
   ]
  },
  {
   "cell_type": "code",
   "execution_count": 19,
   "id": "36c4f366",
   "metadata": {},
   "outputs": [
    {
     "name": "stdout",
     "output_type": "stream",
     "text": [
      "424 ns ± 24.3 ns per loop (mean ± std. dev. of 7 runs, 1000000 loops each)\n"
     ]
    }
   ],
   "source": [
    "%timeit npath(8, 4)"
   ]
  },
  {
   "cell_type": "code",
   "execution_count": null,
   "id": "f607dcf7",
   "metadata": {},
   "outputs": [],
   "source": []
  }
 ],
 "metadata": {
  "kernelspec": {
   "display_name": "Python 3 (ipykernel)",
   "language": "python",
   "name": "python3"
  },
  "language_info": {
   "codemirror_mode": {
    "name": "ipython",
    "version": 3
   },
   "file_extension": ".py",
   "mimetype": "text/x-python",
   "name": "python",
   "nbconvert_exporter": "python",
   "pygments_lexer": "ipython3",
   "version": "3.8.10"
  }
 },
 "nbformat": 4,
 "nbformat_minor": 5
}
