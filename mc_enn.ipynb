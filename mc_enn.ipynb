{
 "cells": [
  {
   "cell_type": "code",
   "execution_count": 51,
   "metadata": {},
   "outputs": [],
   "source": [
    "from mc_remote.minecraft import Minecraft"
   ]
  },
  {
   "cell_type": "code",
   "execution_count": 52,
   "metadata": {},
   "outputs": [],
   "source": [
    "import param_mc_remote as param"
   ]
  },
  {
   "cell_type": "code",
   "execution_count": 53,
   "metadata": {},
   "outputs": [],
   "source": [
    "from param_mc_remote import PLAYER_ORIGIN as PO"
   ]
  },
  {
   "cell_type": "code",
   "execution_count": 54,
   "metadata": {},
   "outputs": [],
   "source": [
    "from param_mc_remote import block\n"
   ]
  },
  {
   "cell_type": "code",
   "execution_count": 55,
   "metadata": {},
   "outputs": [],
   "source": [
    "from time import sleep"
   ]
  },
  {
   "cell_type": "code",
   "execution_count": 56,
   "metadata": {},
   "outputs": [],
   "source": [
    "mc = Minecraft.create(address=param.ADRS_MCR, port=param.PORT_MCR)"
   ]
  },
  {
   "cell_type": "code",
   "execution_count": 57,
   "metadata": {},
   "outputs": [
    {
     "name": "stdout",
     "output_type": "stream",
     "text": [
      "Player Bananadaizin set to location: 2000, 0, 2000 in world \"world\"\n"
     ]
    },
    {
     "data": {
      "text/plain": [
       "'Player Bananadaizin set to location: 2000, 0, 2000 in world \"world\"'"
      ]
     },
     "execution_count": 57,
     "metadata": {},
     "output_type": "execute_result"
    }
   ],
   "source": [
    "mc.setPlayer(param.PLAYER_NAME, PO.x, PO.y, PO.z)"
   ]
  },
  {
   "cell_type": "code",
   "execution_count": 58,
   "metadata": {},
   "outputs": [],
   "source": [
    "kaisu = 0\n",
    "yokonoookisa = 2"
   ]
  },
  {
   "cell_type": "code",
   "execution_count": 59,
   "metadata": {},
   "outputs": [],
   "source": [
    "x, y, z = 22, param.Y_SEA + 1, 6"
   ]
  },
  {
   "cell_type": "code",
   "execution_count": 60,
   "metadata": {},
   "outputs": [],
   "source": [
    "for _i in range(22):\n",
    "    for _i in range(yokonoookisa):\n",
    "        mc.setBlock(x, y, z, block.GOLD_BLOCK)\n",
    "        sleep(0.05)\n",
    "        z += 1\n",
    "    x += 1\n",
    "    kaisu += 1\n",
    "    if kaisu == 1:\n",
    "        z -= yokonoookisa + 2\n",
    "        yokonoookisa += 4\n",
    "    if kaisu == 2:\n",
    "        z -= yokonoookisa + 2\n",
    "        yokonoookisa += 4\n",
    "    if kaisu == 3:\n",
    "        z -= yokonoookisa + 2\n",
    "        yokonoookisa += 4\n",
    "    if kaisu == 4:\n",
    "        z -= yokonoookisa + 1\n",
    "        yokonoookisa += 2\n",
    "    if kaisu == 5:\n",
    "        z -= yokonoookisa\n",
    "    if kaisu == 6:\n",
    "        z -= yokonoookisa + 1\n",
    "        yokonoookisa += 2\n",
    "    if kaisu == 7:\n",
    "        z -= yokonoookisa\n",
    "    if kaisu == 8:\n",
    "        z -= yokonoookisa + 1\n",
    "        yokonoookisa += 2\n",
    "    if kaisu == 9:\n",
    "        z -= yokonoookisa\n",
    "    if kaisu == 10:\n",
    "        z -= yokonoookisa + 1\n",
    "        yokonoookisa += 2\n",
    "    if kaisu == 11:\n",
    "        z -= yokonoookisa\n",
    "    if kaisu == 12:\n",
    "        z -= yokonoookisa - 1\n",
    "        yokonoookisa -= 2\n",
    "    if kaisu == 13:\n",
    "        z -= yokonoookisa\n",
    "    if kaisu == 14:\n",
    "        z -= yokonoookisa - 1\n",
    "        yokonoookisa -= 2\n",
    "    if kaisu == 15:\n",
    "        z -= yokonoookisa\n",
    "    if kaisu == 16:\n",
    "        z -= yokonoookisa - 1\n",
    "        yokonoookisa -= 2\n",
    "    if kaisu == 17:\n",
    "        z -= yokonoookisa\n",
    "    if kaisu == 18:\n",
    "        z -= yokonoookisa - 1\n",
    "        yokonoookisa -= 2\n",
    "    if kaisu == 19:\n",
    "        z -= yokonoookisa - 2\n",
    "        yokonoookisa -= 4\n",
    "    if kaisu == 20:\n",
    "        z -= yokonoookisa - 2\n",
    "        yokonoookisa -= 4\n",
    "    if kaisu == 21:\n",
    "        z -= yokonoookisa - 2\n",
    "        yokonoookisa -= 4"
   ]
  }
 ],
 "metadata": {
  "kernelspec": {
   "display_name": "mc-remote-samples-py3.11",
   "language": "python",
   "name": "python3"
  },
  "language_info": {
   "codemirror_mode": {
    "name": "ipython",
    "version": 3
   },
   "file_extension": ".py",
   "mimetype": "text/x-python",
   "name": "python",
   "nbconvert_exporter": "python",
   "pygments_lexer": "ipython3",
   "version": "3.11.9"
  }
 },
 "nbformat": 4,
 "nbformat_minor": 2
}
