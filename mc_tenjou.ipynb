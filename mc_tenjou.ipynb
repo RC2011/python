{
 "cells": [
  {
   "cell_type": "code",
   "execution_count": 19,
   "metadata": {},
   "outputs": [],
   "source": [
    "from mc_remote.minecraft import Minecraft"
   ]
  },
  {
   "cell_type": "code",
   "execution_count": 20,
   "metadata": {},
   "outputs": [],
   "source": [
    "import param_mc_remote as param"
   ]
  },
  {
   "cell_type": "code",
   "execution_count": 21,
   "metadata": {},
   "outputs": [],
   "source": [
    "from param_mc_remote import PLAYER_ORIGIN as PO"
   ]
  },
  {
   "cell_type": "code",
   "execution_count": 22,
   "metadata": {},
   "outputs": [],
   "source": [
    "from param_mc_remote import block\n"
   ]
  },
  {
   "cell_type": "code",
   "execution_count": 23,
   "metadata": {},
   "outputs": [],
   "source": [
    "from time import sleep"
   ]
  },
  {
   "cell_type": "code",
   "execution_count": 24,
   "metadata": {},
   "outputs": [],
   "source": [
    "mc = Minecraft.create(address=param.ADRS_MCR, port=param.PORT_MCR)"
   ]
  },
  {
   "cell_type": "code",
   "execution_count": 25,
   "metadata": {},
   "outputs": [
    {
     "name": "stdout",
     "output_type": "stream",
     "text": [
      "Player Bananadaizin set to location: 2000, 0, 2000 in world \"world\"\n"
     ]
    },
    {
     "data": {
      "text/plain": [
       "'Player Bananadaizin set to location: 2000, 0, 2000 in world \"world\"'"
      ]
     },
     "execution_count": 25,
     "metadata": {},
     "output_type": "execute_result"
    }
   ],
   "source": [
    "mc.setPlayer(param.PLAYER_NAME, PO.x, PO.y, PO.z)"
   ]
  },
  {
   "cell_type": "code",
   "execution_count": 26,
   "metadata": {},
   "outputs": [],
   "source": [
    "x, y, z = 48, param.Y_SEA + 120, -48"
   ]
  },
  {
   "cell_type": "code",
   "execution_count": 27,
   "metadata": {},
   "outputs": [],
   "source": [
    "for _i in range(97):\n",
    "    for _i in range(97):\n",
    "        mc.setBlock(x, y, z, block.RED_STAINED_GLASS)\n",
    "        sleep(0.0001)\n",
    "        x -= 1\n",
    "    x += 97\n",
    "    z += 1\n",
    "x, y, z = 48, param.Y_SEA + 120, -48\n",
    "for _i in range(97):\n",
    "    for _i in range(97):\n",
    "        mc.setBlock(x, y, z, block.YELLOW_STAINED_GLASS)\n",
    "        sleep(0.0001)\n",
    "        x -= 1\n",
    "    x += 97\n",
    "    z += 1\n",
    "x, y, z = 48, param.Y_SEA + 120, -48\n",
    "for _i in range(97):\n",
    "    for _i in range(97):\n",
    "        mc.setBlock(x, y, z, block.BLUE_STAINED_GLASS)\n",
    "        sleep(0.0001)\n",
    "        x -= 1\n",
    "    x += 97\n",
    "    z += 1\n",
    "x, y, z = 48, param.Y_SEA + 120, -48\n",
    "for _i in range(97):\n",
    "    for _i in range(97):\n",
    "        mc.setBlock(x, y, z, block.GLASS)\n",
    "        sleep(0.0001)\n",
    "        x -= 1\n",
    "    x += 97\n",
    "    z += 1"
   ]
  }
 ],
 "metadata": {
  "kernelspec": {
   "display_name": "mc-remote-samples-py3.11",
   "language": "python",
   "name": "python3"
  },
  "language_info": {
   "codemirror_mode": {
    "name": "ipython",
    "version": 3
   },
   "file_extension": ".py",
   "mimetype": "text/x-python",
   "name": "python",
   "nbconvert_exporter": "python",
   "pygments_lexer": "ipython3",
   "version": "3.11.9"
  }
 },
 "nbformat": 4,
 "nbformat_minor": 2
}
